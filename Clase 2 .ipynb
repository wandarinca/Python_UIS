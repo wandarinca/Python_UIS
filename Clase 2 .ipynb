{
 "cells": [
  {
   "cell_type": "markdown",
   "metadata": {},
   "source": [
    "# Clase 2: Funciones y Objetos en Python"
   ]
  },
  {
   "cell_type": "code",
   "execution_count": null,
   "metadata": {
    "collapsed": true
   },
   "outputs": [],
   "source": [
    "# Solucuion a desafios anteriores"
   ]
  },
  {
   "cell_type": "code",
   "execution_count": 1,
   "metadata": {
    "collapsed": true
   },
   "outputs": [],
   "source": [
    "def simple_primo(x):\n",
    "    for i in range(2,x):\n",
    "        if x%i == 0:\n",
    "            print('No es primo')\n",
    "            break\n",
    "    else:\n",
    "        print(\"Primo\")"
   ]
  },
  {
   "cell_type": "code",
   "execution_count": 7,
   "metadata": {
    "collapsed": false
   },
   "outputs": [
    {
     "name": "stdout",
     "output_type": "stream",
     "text": [
      "No es primo\n"
     ]
    }
   ],
   "source": [
    "simple_primo(14)"
   ]
  },
  {
   "cell_type": "code",
   "execution_count": 3,
   "metadata": {
    "collapsed": true
   },
   "outputs": [],
   "source": [
    "def simple_mcd(x,y):\n",
    "    # Solo dividir hasta el menor numero\n",
    "    minor = min(x,y)\n",
    "    cds = [] # divisores\n",
    "    for i in range(1,minor+1):\n",
    "        if x%i == 0 and y%i ==0:\n",
    "            cds.append(i)\n",
    "    print(cds)\n",
    "    return cds[-1]\n",
    "    "
   ]
  },
  {
   "cell_type": "code",
   "execution_count": 4,
   "metadata": {
    "collapsed": false
   },
   "outputs": [
    {
     "name": "stdout",
     "output_type": "stream",
     "text": [
      "[1, 2, 3, 4, 6, 12]\n",
      "12\n"
     ]
    }
   ],
   "source": [
    "mcd = simple_mcd(12,36)\n",
    "print(mcd)"
   ]
  },
  {
   "cell_type": "markdown",
   "metadata": {},
   "source": [
    "## Listas parte 2\n",
    "\n",
    "Antes de comenzar con las funciones vamos a repasar las listas. Ya que las vimos brevemente.\n",
    "\n",
    "Existen 2 maneras de recorrer una lista"
   ]
  },
  {
   "cell_type": "code",
   "execution_count": 5,
   "metadata": {
    "collapsed": false
   },
   "outputs": [
    {
     "name": "stdout",
     "output_type": "stream",
     "text": [
      "a\n",
      "3\n",
      "4.5\n",
      "b\n",
      "7\n"
     ]
    }
   ],
   "source": [
    "lista = ['a', 3, 4.5, 'b', 7] # las listas pueden tener distintos tipos de datos en su interior!\n",
    "\n",
    "for i in lista:\n",
    "    print(i)"
   ]
  },
  {
   "cell_type": "markdown",
   "metadata": {},
   "source": [
    "De la anterior manera i toma el valor de cada variable en la lista. Pero debes saber que interamente las listas tienen **índices**. Esto es cada valor tiene una posición en la lista y puedes uar esta posicion para acceder al valor. Los indices comienzan en 0 (primera posición) y van aumentando.\n",
    "\n",
    "> lista[i] siendo i un entero, es una forma de acceder al valor en la posicion i en la lista\n",
    "\n",
    "- lista[0] es una cadena\n",
    "- lista[1] es un numero entero int\n",
    "- lista[2] es un float o numero decimal\n",
    "\n",
    "Ahora usaremos la funcion len() para obtener la longitud de la lista y la funcion range() para generar indices. Observa este código:"
   ]
  },
  {
   "cell_type": "code",
   "execution_count": 6,
   "metadata": {
    "collapsed": false
   },
   "outputs": [
    {
     "name": "stdout",
     "output_type": "stream",
     "text": [
      "Indice:  0 valor:  a\n",
      "Indice:  1 valor:  3\n",
      "Indice:  2 valor:  4.5\n",
      "Indice:  3 valor:  b\n",
      "Indice:  4 valor:  7\n"
     ]
    }
   ],
   "source": [
    "for i in range(len(lista)):\n",
    "    print(\"Indice: \", i, \"valor: \", lista[i])"
   ]
  },
  {
   "cell_type": "markdown",
   "metadata": {},
   "source": [
    "Podemos usar la funcion range para cambiar el orden o los saltos en la iteracion"
   ]
  },
  {
   "cell_type": "code",
   "execution_count": 7,
   "metadata": {
    "collapsed": false
   },
   "outputs": [
    {
     "name": "stdout",
     "output_type": "stream",
     "text": [
      "Indice:  0 valor:  a\n",
      "Indice:  2 valor:  4.5\n",
      "Indice:  4 valor:  7\n"
     ]
    }
   ],
   "source": [
    "for i in range(0, len(lista),2): # usando range (inicio, final, salto)\n",
    "    print(\"Indice: \", i, \"valor: \", lista[i])"
   ]
  },
  {
   "cell_type": "code",
   "execution_count": 8,
   "metadata": {
    "collapsed": false
   },
   "outputs": [
    {
     "name": "stdout",
     "output_type": "stream",
     "text": [
      "Indice:  4 valor:  7\n",
      "Indice:  3 valor:  b\n",
      "Indice:  2 valor:  4.5\n",
      "Indice:  1 valor:  3\n"
     ]
    }
   ],
   "source": [
    "for i in range(len(lista)-1,0,-1): # usando range (final, comienzo, salto)\n",
    "    print(\"Indice: \", i, \"valor: \", lista[i])"
   ]
  },
  {
   "cell_type": "markdown",
   "metadata": {},
   "source": [
    "> Por qué uso la longitud -1 ?"
   ]
  },
  {
   "cell_type": "markdown",
   "metadata": {},
   "source": [
    "### List comprehension\n",
    "\n",
    "Hay maneras de hacer listas con lógica en python. Además esto es muy rápido ya que internamente es un *generador* (ya lo veremos más adelante) "
   ]
  },
  {
   "cell_type": "code",
   "execution_count": 22,
   "metadata": {
    "collapsed": false
   },
   "outputs": [
    {
     "name": "stdout",
     "output_type": "stream",
     "text": [
      "[3, 7]\n"
     ]
    }
   ],
   "source": [
    "# Quiero los numeros en la lista \n",
    "enteros_lista = [i for i in lista if type(i) == int]\n",
    "print(enteros_lista)"
   ]
  },
  {
   "cell_type": "markdown",
   "metadata": {},
   "source": [
    "# Funciones\n",
    "\n",
    "Hasta ahora haz utilizado funciones quizás sin darte cuenta. \n",
    "\n",
    "- print()\n",
    "- len()\n",
    "- range()\n",
    "- type()\n",
    "- int()\n",
    "\n",
    "Pero... ¿ cómo definirías una función?\n",
    "\n",
    "Una funcion es una pieza de código que recibe unos parámetros (entradas) y ejecuta un proceso que puede o no retornar un resultado.\n",
    "\n",
    "\n",
    "<img src='Notebooks_imagenes/function.jpg'/>\n",
    "\n",
    "```python\n",
    "\n",
    "def nombre_funcion(parametros):\n",
    "    .... operaciones sobre los parametros\n",
    "    \n",
    "```\n",
    "\n",
    "Por qué crear funciones?\n",
    "\n",
    "- Podemos reusar código encapsulandolo en una funcion para usarlo con diferentes parámetros!"
   ]
  },
  {
   "cell_type": "code",
   "execution_count": 23,
   "metadata": {
    "collapsed": false
   },
   "outputs": [
    {
     "name": "stdout",
     "output_type": "stream",
     "text": [
      "4\n",
      "81\n"
     ]
    }
   ],
   "source": [
    "def cuadrado(x):\n",
    "    x2 = x*x\n",
    "    return x2\n",
    "\n",
    "print(cuadrado(2))\n",
    "print(cuadrado(9))"
   ]
  },
  {
   "cell_type": "code",
   "execution_count": 9,
   "metadata": {
    "collapsed": false
   },
   "outputs": [],
   "source": [
    "# definiendo una funcion\n",
    "def saluda(mi_nombre, mi_edad):\n",
    "    print(\"Hola mi nombre es {nombre} y tengo {edad}.\".format(nombre=mi_nombre, edad=mi_edad))"
   ]
  },
  {
   "cell_type": "code",
   "execution_count": 10,
   "metadata": {
    "collapsed": false
   },
   "outputs": [
    {
     "name": "stdout",
     "output_type": "stream",
     "text": [
      "Hola mi nombre es Wanda y tengo 26.\n"
     ]
    }
   ],
   "source": [
    "# llamando a la funcion! Si no la llamas no se ejecuta\n",
    "saluda('Wanda', 26)    "
   ]
  },
  {
   "cell_type": "markdown",
   "metadata": {},
   "source": [
    "# Ejercicio\n",
    "\n",
    "Crea una funcion que tome el valor de la comida y la propina que el usuario quiere dar. Haz que imprima un mensaje \"No seas tacaño\" si esta es menor del 10% de lo consumido."
   ]
  },
  {
   "cell_type": "code",
   "execution_count": 12,
   "metadata": {
    "collapsed": true
   },
   "outputs": [],
   "source": [
    "def calcula_porcentaje_propina(valor_comida, propina):\n",
    "    min_prop = None\n",
    "    if None:\n",
    "        print('No seas tacaño!')\n",
    "    pass # reemplaza esto por tus calculos"
   ]
  },
  {
   "cell_type": "markdown",
   "metadata": {},
   "source": [
    "Las funciones pueden retornar valores o solo realizar acciones como la funcion saluda."
   ]
  },
  {
   "cell_type": "markdown",
   "metadata": {},
   "source": [
    "## Recursividad\n",
    "\n",
    "Una función recursiva es aquella que se llama a sí misma.\n",
    "\n",
    "<img src='Notebooks_imagenes/poo.jpg'/>\n",
    "\n",
    "Y para ilustrar haremos una funcion calcule el factorial de un numero.\n",
    "\n",
    "El factorial de un numero n se escribe como $n!$\n",
    "\n",
    "$$n! = 1 * 2 * 3 *... (n-1) * n$$\n",
    "\n",
    "**Ejemplos **\n",
    "\n",
    "$3! = 1*2*3 = 6$ \n",
    "\n",
    "$5! = 1*2*3*4*5 = 120$\n",
    "\n",
    "Podriamos calcularlo con un for pero... sabemos de una propiedad matemática\n",
    "\n",
    "$$n! = (n-1)!* n$$"
   ]
  },
  {
   "cell_type": "code",
   "execution_count": 26,
   "metadata": {
    "collapsed": false
   },
   "outputs": [
    {
     "data": {
      "text/plain": [
       "720"
      ]
     },
     "execution_count": 26,
     "metadata": {},
     "output_type": "execute_result"
    }
   ],
   "source": [
    "def factorial(n):\n",
    "    if n == 1:\n",
    "        return 1\n",
    "    else:\n",
    "        return n * factorial(n-1)\n",
    "    \n",
    "factorial(6)"
   ]
  },
  {
   "cell_type": "markdown",
   "metadata": {},
   "source": [
    "## Funciones lambda\n",
    "\n",
    "Las funciones lambda son funciones anónimas. No tienen nombre.\n",
    "\n",
    "Son utiles para hacer un proceso que no va ser utilizado por otras partes del código. Es unaexpresion compacta. La sintaxis es de la siquiente manera:\n",
    "\n",
    "```python\n",
    "lambda argumentos : expresion\n",
    "```"
   ]
  },
  {
   "cell_type": "code",
   "execution_count": 27,
   "metadata": {
    "collapsed": false
   },
   "outputs": [
    {
     "name": "stdout",
     "output_type": "stream",
     "text": [
      "14\n"
     ]
    }
   ],
   "source": [
    "x = lambda a : a + 10\n",
    "\n",
    "print(x(4))"
   ]
  },
  {
   "cell_type": "markdown",
   "metadata": {},
   "source": [
    "# Programación Orientada a objetos\n",
    "\n",
    "En python todo es un objeto, indirectamente has venido usando los objetos. Este estilo de programación lleva todo a un nivel más alto de abstracción que aunque al comienzo puede pareer más  complicado en realidad facilita las cosas para los programadores a la hora de hacer buen software. A continuacion algunos de los conceptos clave en POO:\n",
    "\n",
    "#### Clase\n",
    "\n",
    "Es un prototipo de objeto definido a partir de un conjunto de **atributos** que caracterizan cualquier objeto de la clase. También se definen en la clase el conjunto de métodos o **funciones** propios del objeto.\n",
    "\n",
    "#### Variable de Clase \n",
    "\n",
    "Una variable que es compartida por todas las intsancias de la clase, se define dentro de la clase.\n",
    "\n",
    "#### Instancia\n",
    "\n",
    "Es un objeto individual de cierta clase.\n",
    "\n",
    "#### \"Instanciar\"\n",
    "\n",
    "La creación de una instancia de una clase.\n",
    "\n",
    "#### Variable de instancia\n",
    "\n",
    "Una variable que es definida dentro de un método y que pertenece sólo a la instancia actual de esa clase.f a class.\n",
    "\n",
    "#### Método\n",
    "\n",
    "Es una función que es definida dentro de una clase.\n",
    "\n",
    "#### Objeto \n",
    "\n",
    "Una instancia de estructur de datos definida por su clase. Tiene variables de clase y variables de instancia en sus métodos.\n",
    "\n",
    "####  Sobrecarga de operadores\n",
    "\n",
    "Asignar una o más funciones a un operaor particular. Por ejemplo debes notar que el operador \"+\" tiene comportamiento diferente con cadenas y números! \n",
    "\n",
    "#### Init()\n",
    "\n",
    "Es un método especial, llamado **constructor** que sirve para inicializar o crear una instancia de una clase. Toma como argumento a sí mismo **self**. Contrario a *init*, tambien existe un método **destructor** *del()*.\n",
    "\n",
    "### Ejemplo (mental)\n",
    "\n",
    "Un ejemplo para llevar todas estas definiciones a una representación común es imaginar que creas una clase *Gato.* Defines atributos como numero de colores, peso, edad, color de ojos, si es de pelo largo o corto... en fin. También como gato tiene métodos como: comer(), dormir(), ronronear(), jugar()\n",
    "\n",
    "Ahora imagina que instanciamos un objeto llamado pusheen, pusheen pertenece a la clase Gato y como tal puede hacer todos los métodos. \n",
    "\n",
    "![SegmentLocal](Notebooks_imagenes/gatitos.gif \"segment\")\n",
    "\n",
    "> Atributos son propiedades del objeto. Métodos son funciones que se pueden hacer sobre el objeto que permiten modificar , iniciar o destruir."
   ]
  },
  {
   "cell_type": "code",
   "execution_count": 28,
   "metadata": {
    "collapsed": true
   },
   "outputs": [],
   "source": [
    "class Cat:\n",
    "    'Base comun para todos los gatos'\n",
    "    catCount = 0 #class variable\n",
    "    def __init__(self, name, color, caracter):\n",
    "        self.name = name\n",
    "        self.color = color\n",
    "        self.caracter = caracter\n",
    "        Cat.catCount += 1\n",
    "        \n",
    "    def __del__(self):\n",
    "        class_name = self.__class__.__name__\n",
    "        print(class_name, \"destroyed </3 \")\n",
    "        Cat.catCount += 1\n",
    "\n",
    "    def displayCount(self):\n",
    "        print(\"Total cats %d\" % Cat.catCount)\n",
    "        \n",
    "    def displayCat(self):\n",
    "        print(\"My name is \", self.name,  \", My fur is \", self.color ,\" and I'm a \",self.caracter, \"kitty :3\")\n",
    "    \n",
    "    def meow(self):\n",
    "        print ('Miau, gimme food >:3 ')\n",
    "    \n"
   ]
  },
  {
   "cell_type": "code",
   "execution_count": 29,
   "metadata": {
    "collapsed": false
   },
   "outputs": [
    {
     "name": "stdout",
     "output_type": "stream",
     "text": [
      "<__main__.Cat object at 0x7fdb540bdeb8>\n"
     ]
    }
   ],
   "source": [
    "gato1 = Cat(name='pusheen', color='gray', caracter='playful')\n",
    "print(gato1)"
   ]
  },
  {
   "cell_type": "code",
   "execution_count": 30,
   "metadata": {
    "collapsed": false
   },
   "outputs": [
    {
     "data": {
      "text/plain": [
       "1"
      ]
     },
     "execution_count": 30,
     "metadata": {},
     "output_type": "execute_result"
    }
   ],
   "source": [
    "Cat.catCount # variable de clase! :D "
   ]
  },
  {
   "cell_type": "code",
   "execution_count": 31,
   "metadata": {
    "collapsed": false
   },
   "outputs": [
    {
     "name": "stdout",
     "output_type": "stream",
     "text": [
      "My name is  pusheen , My fur is  gray  and I'm a  playful kitty :3\n"
     ]
    }
   ],
   "source": [
    "gato1.displayCat()"
   ]
  },
  {
   "cell_type": "code",
   "execution_count": 32,
   "metadata": {
    "collapsed": false
   },
   "outputs": [
    {
     "name": "stdout",
     "output_type": "stream",
     "text": [
      "Miau, gimme food >:3 \n"
     ]
    }
   ],
   "source": [
    "gato1.meow()"
   ]
  },
  {
   "cell_type": "code",
   "execution_count": 33,
   "metadata": {
    "collapsed": false
   },
   "outputs": [
    {
     "name": "stdout",
     "output_type": "stream",
     "text": [
      "pusheen\n"
     ]
    }
   ],
   "source": [
    "print( getattr(gato1,'name'))"
   ]
  },
  {
   "cell_type": "code",
   "execution_count": 34,
   "metadata": {
    "collapsed": false
   },
   "outputs": [
    {
     "name": "stdout",
     "output_type": "stream",
     "text": [
      "Cat destroyed </3 \n"
     ]
    }
   ],
   "source": [
    "del(gato1)"
   ]
  },
  {
   "cell_type": "markdown",
   "metadata": {},
   "source": [
    "## Herencia\n",
    "\n",
    "La herencia es un cocepto por el cual puedes crear una clase que hereda de una más sencilla y luego añadirle más funcionalidades. Por ejemplo: \n",
    "\n",
    "```python\n",
    "class Dog:\n",
    "    species = 'mammal'\n",
    "\n",
    "class SomeBreed(Dog):\n",
    "    breed = 'bulldog'\n",
    "\n",
    "\n",
    "frank = SomeBreed()\n",
    "print(frank.species, frank.breed)\n",
    "```"
   ]
  },
  {
   "cell_type": "markdown",
   "metadata": {},
   "source": [
    "# Ejercicio\n",
    "\n",
    "- Crea una nueva instancia llamada gata3. Dale atributos de tu gusto.\n",
    "- La  programación es creativa, que otros métodos puedes añadir a la clase Cat?\n",
    "- Crea una clase que herede de la clase Gato, similar al ejemplo anterior"
   ]
  },
  {
   "cell_type": "code",
   "execution_count": null,
   "metadata": {
    "collapsed": true
   },
   "outputs": [],
   "source": [
    "# crea un nuevo gato"
   ]
  },
  {
   "cell_type": "markdown",
   "metadata": {},
   "source": [
    "# Librerias\n",
    "\n",
    "Las librerías o módulos son código creado por otras personas que podemos usar para no tener que \"reinventar la rueda\". Pueden traer variables y funciones útiles optimizadas. La comunidad de Python en el mundo es muy grande y es casi seguro que al empezar un proyecto, si buscas antecedentes encontrarás una librería con lo que buscas o algo muy parecido.\n",
    "\n",
    "Para importar una libreria existen varias formas:\n",
    "\n",
    "```python\n",
    "# importando todo el modulo\n",
    "import math  \n",
    "a = 2\n",
    "root = math.sqrt(a)\n",
    "\n",
    "# importando todo con notacion *\n",
    "from math import *\n",
    "root = sqrt(a)\n",
    "\n",
    "## importando solo algunas funciones del modulo\n",
    "from math import sqrt\n",
    "root = sqrt(a)\n",
    "\n",
    "```\n",
    "\n",
    "- Math es una librería básica de Python con funciones matemáticas, la primera forma importa de math TODAS las funciones. \n",
    "- La segunda también y ademas te puede crear conflictos. Que tal si tienes en tu codigo una funcion sqrt?\n",
    "- La tercera es mejor práctica y es importar solo lo que necesitamos.\n",
    "\n",
    "# Ejercicios\n",
    "\n",
    "- 1) Crea una función que tome una lista de nombres como entrada y retorne solo aquellos que terminen en 'a'. **Pista: ** las cadenas son como lista puedes obtener el último caracter con nombre[-1].\n",
    "- 2) Haz lo mismo que en el numeral 1) una usando list comprehension.\n",
    "- 3) Crea una clase llamada Poligono. Que tenga el numero de lados y longitud de estos como atributo. Crea una  funcion que sume los lados del polígono (perímetro)\n"
   ]
  },
  {
   "cell_type": "markdown",
   "metadata": {
    "collapsed": true
   },
   "source": [
    "# Usando Numpy\n",
    "\n",
    "La librería numpy nos sirve para crear arreglos y hacer operaciones sobre estos. Vas a ver que hay operaciones vectorizadas que nos hace la sintaxis más limpia y el código mas rápido.\n",
    "\n",
    "## Vectores"
   ]
  },
  {
   "cell_type": "code",
   "execution_count": 14,
   "metadata": {
    "collapsed": false
   },
   "outputs": [
    {
     "data": {
      "text/plain": [
       "array([1, 4, 8])"
      ]
     },
     "execution_count": 14,
     "metadata": {},
     "output_type": "execute_result"
    }
   ],
   "source": [
    "import numpy as np \n",
    "\n",
    "vector_a = np.array([1,4,8])\n",
    "vector_a"
   ]
  },
  {
   "cell_type": "code",
   "execution_count": 15,
   "metadata": {
    "collapsed": false
   },
   "outputs": [
    {
     "data": {
      "text/plain": [
       "(3,)"
      ]
     },
     "execution_count": 15,
     "metadata": {},
     "output_type": "execute_result"
    }
   ],
   "source": [
    "vector_a.shape # es un vector fila"
   ]
  },
  {
   "cell_type": "code",
   "execution_count": 17,
   "metadata": {
    "collapsed": false
   },
   "outputs": [
    {
     "data": {
      "text/plain": [
       "array([[1],\n",
       "       [3],\n",
       "       [9]])"
      ]
     },
     "execution_count": 17,
     "metadata": {},
     "output_type": "execute_result"
    }
   ],
   "source": [
    "vector_b = np.array([[1],[3],[9]])\n",
    "vector_b"
   ]
  },
  {
   "cell_type": "code",
   "execution_count": 19,
   "metadata": {
    "collapsed": false
   },
   "outputs": [
    {
     "data": {
      "text/plain": [
       "(3, 1)"
      ]
     },
     "execution_count": 19,
     "metadata": {},
     "output_type": "execute_result"
    }
   ],
   "source": [
    "vector_b.shape # vector columna"
   ]
  },
  {
   "cell_type": "markdown",
   "metadata": {},
   "source": [
    "## Matrices\n",
    "\n",
    "similar la sintaxis..."
   ]
  },
  {
   "cell_type": "code",
   "execution_count": 20,
   "metadata": {
    "collapsed": false
   },
   "outputs": [
    {
     "data": {
      "text/plain": [
       "array([[7, 5],\n",
       "       [6, 3],\n",
       "       [0, 2]])"
      ]
     },
     "execution_count": 20,
     "metadata": {},
     "output_type": "execute_result"
    }
   ],
   "source": [
    "matriz_ejemplo = np.array([[7,5],[6,3],[0,2]])\n",
    "matriz_ejemplo"
   ]
  },
  {
   "cell_type": "code",
   "execution_count": 22,
   "metadata": {
    "collapsed": false
   },
   "outputs": [
    {
     "data": {
      "text/plain": [
       "(3, 2)"
      ]
     },
     "execution_count": 22,
     "metadata": {},
     "output_type": "execute_result"
    }
   ],
   "source": [
    "matriz_ejemplo.shape"
   ]
  },
  {
   "cell_type": "markdown",
   "metadata": {},
   "source": [
    "> Normalmente para multiplicar una matriz por un número habria que recorrer el arreglo con dos for  (uno para filas y otro para columnas) pero con numpy hacer esto es muy sencillo."
   ]
  },
  {
   "cell_type": "code",
   "execution_count": 23,
   "metadata": {
    "collapsed": false
   },
   "outputs": [
    {
     "data": {
      "text/plain": [
       "array([[14, 10],\n",
       "       [12,  6],\n",
       "       [ 0,  4]])"
      ]
     },
     "execution_count": 23,
     "metadata": {},
     "output_type": "execute_result"
    }
   ],
   "source": [
    "matriz_ejemplo2 = 2*matriz_ejemplo\n",
    "matriz_ejemplo2"
   ]
  },
  {
   "cell_type": "markdown",
   "metadata": {},
   "source": [
    "Podemos multiplicar dos matrices elemento a elemento simplemente deben tener la misma dimension!"
   ]
  },
  {
   "cell_type": "code",
   "execution_count": 25,
   "metadata": {
    "collapsed": false
   },
   "outputs": [
    {
     "data": {
      "text/plain": [
       "array([[98, 50],\n",
       "       [72, 18],\n",
       "       [ 0,  8]])"
      ]
     },
     "execution_count": 25,
     "metadata": {},
     "output_type": "execute_result"
    }
   ],
   "source": [
    "matriz_ejemplo*matriz_ejemplo2"
   ]
  },
  {
   "cell_type": "markdown",
   "metadata": {},
   "source": [
    "Y multiplicar matrices, siempre que cumplan la condicion (m,n), (n,x)"
   ]
  },
  {
   "cell_type": "code",
   "execution_count": 26,
   "metadata": {
    "collapsed": false
   },
   "outputs": [
    {
     "ename": "ValueError",
     "evalue": "shapes (3,2) and (3,2) not aligned: 2 (dim 1) != 3 (dim 0)",
     "output_type": "error",
     "traceback": [
      "\u001b[0;31m-------------------------------------------------------------------------\u001b[0m",
      "\u001b[0;31mValueError\u001b[0m                              Traceback (most recent call last)",
      "\u001b[0;32m<ipython-input-26-833559f85814>\u001b[0m in \u001b[0;36m<module>\u001b[0;34m()\u001b[0m\n\u001b[0;32m----> 1\u001b[0;31m \u001b[0mnp\u001b[0m\u001b[0;34m.\u001b[0m\u001b[0mmatmul\u001b[0m\u001b[0;34m(\u001b[0m\u001b[0mmatriz_ejemplo\u001b[0m\u001b[0;34m,\u001b[0m \u001b[0mmatriz_ejemplo2\u001b[0m\u001b[0;34m)\u001b[0m\u001b[0;34m\u001b[0m\u001b[0m\n\u001b[0m",
      "\u001b[0;31mValueError\u001b[0m: shapes (3,2) and (3,2) not aligned: 2 (dim 1) != 3 (dim 0)"
     ]
    }
   ],
   "source": [
    "np.matmul(matriz_ejemplo, matriz_ejemplo2)"
   ]
  },
  {
   "cell_type": "markdown",
   "metadata": {},
   "source": [
    "sacar traspuestas es simple!"
   ]
  },
  {
   "cell_type": "code",
   "execution_count": 27,
   "metadata": {
    "collapsed": false
   },
   "outputs": [
    {
     "data": {
      "text/plain": [
       "array([[7, 6, 0],\n",
       "       [5, 3, 2]])"
      ]
     },
     "execution_count": 27,
     "metadata": {},
     "output_type": "execute_result"
    }
   ],
   "source": [
    "matriz_ejemplo.T"
   ]
  },
  {
   "cell_type": "code",
   "execution_count": 28,
   "metadata": {
    "collapsed": false
   },
   "outputs": [
    {
     "data": {
      "text/plain": [
       "array([[148, 114,  20],\n",
       "       [114,  90,  12],\n",
       "       [ 20,  12,   8]])"
      ]
     },
     "execution_count": 28,
     "metadata": {},
     "output_type": "execute_result"
    }
   ],
   "source": [
    "np.matmul(matriz_ejemplo, matriz_ejemplo2.T)"
   ]
  },
  {
   "cell_type": "markdown",
   "metadata": {},
   "source": [
    "Crear  arreglos de ceros o unos "
   ]
  },
  {
   "cell_type": "code",
   "execution_count": 29,
   "metadata": {
    "collapsed": false
   },
   "outputs": [
    {
     "data": {
      "text/plain": [
       "array([[ 0.,  0.,  0.],\n",
       "       [ 0.,  0.,  0.]])"
      ]
     },
     "execution_count": 29,
     "metadata": {},
     "output_type": "execute_result"
    }
   ],
   "source": [
    "ceros = np.zeros((2,3))\n",
    "ceros"
   ]
  },
  {
   "cell_type": "code",
   "execution_count": 31,
   "metadata": {
    "collapsed": false
   },
   "outputs": [
    {
     "data": {
      "text/plain": [
       "array([[ 1.,  1.,  1.,  1.,  1.],\n",
       "       [ 1.,  1.,  1.,  1.,  1.],\n",
       "       [ 1.,  1.,  1.,  1.,  1.],\n",
       "       [ 1.,  1.,  1.,  1.,  1.]])"
      ]
     },
     "execution_count": 31,
     "metadata": {},
     "output_type": "execute_result"
    }
   ],
   "source": [
    "unos = np.ones((4,5))\n",
    "unos"
   ]
  },
  {
   "cell_type": "code",
   "execution_count": 32,
   "metadata": {
    "collapsed": false
   },
   "outputs": [
    {
     "data": {
      "text/plain": [
       "array([[ 1.,  0.,  0.],\n",
       "       [ 0.,  1.,  0.],\n",
       "       [ 0.,  0.,  1.]])"
      ]
     },
     "execution_count": 32,
     "metadata": {},
     "output_type": "execute_result"
    }
   ],
   "source": [
    "# matriz identidad\n",
    "id3 = np.eye(N=3, M=3)\n",
    "id3"
   ]
  },
  {
   "cell_type": "code",
   "execution_count": 44,
   "metadata": {
    "collapsed": false
   },
   "outputs": [
    {
     "data": {
      "text/plain": [
       "array([[ 0.23928386,  0.60093895,  0.65802148],\n",
       "       [ 0.13288357,  0.77372552,  0.72407913],\n",
       "       [ 0.21061873,  0.98914382,  0.86597271]])"
      ]
     },
     "execution_count": 44,
     "metadata": {},
     "output_type": "execute_result"
    }
   ],
   "source": [
    "Z = np.random.random((3,3))\n",
    "Z"
   ]
  },
  {
   "cell_type": "code",
   "execution_count": 48,
   "metadata": {
    "collapsed": false
   },
   "outputs": [
    {
     "data": {
      "text/plain": [
       "(0.98914381949160102,\n",
       " 0.13288357360200764,\n",
       " 0.57718530887703223,\n",
       " 0.29180758967496645)"
      ]
     },
     "execution_count": 48,
     "metadata": {},
     "output_type": "execute_result"
    }
   ],
   "source": [
    "Z.max(), Z.min(), Z.mean(), Z.std()"
   ]
  },
  {
   "cell_type": "markdown",
   "metadata": {},
   "source": [
    "Podemos hacer \"slicing\" de estos arrays, como en las listas"
   ]
  },
  {
   "cell_type": "code",
   "execution_count": 39,
   "metadata": {
    "collapsed": false
   },
   "outputs": [
    {
     "data": {
      "text/plain": [
       "array([ 0.4657765 ,  0.69382243,  0.1743956 ])"
      ]
     },
     "execution_count": 39,
     "metadata": {},
     "output_type": "execute_result"
    }
   ],
   "source": [
    "Z[:,0]"
   ]
  },
  {
   "cell_type": "code",
   "execution_count": 40,
   "metadata": {
    "collapsed": false
   },
   "outputs": [
    {
     "data": {
      "text/plain": [
       "array([ 0.69382243,  0.45250222,  0.25619407])"
      ]
     },
     "execution_count": 40,
     "metadata": {},
     "output_type": "execute_result"
    }
   ],
   "source": [
    "Z[1,:]"
   ]
  },
  {
   "cell_type": "code",
   "execution_count": 52,
   "metadata": {
    "collapsed": false
   },
   "outputs": [
    {
     "name": "stdout",
     "output_type": "stream",
     "text": [
      "[[0 1 0 1 0 1 0 1]\n",
      " [1 0 1 0 1 0 1 0]\n",
      " [0 1 0 1 0 1 0 1]\n",
      " [1 0 1 0 1 0 1 0]\n",
      " [0 1 0 1 0 1 0 1]\n",
      " [1 0 1 0 1 0 1 0]\n",
      " [0 1 0 1 0 1 0 1]\n",
      " [1 0 1 0 1 0 1 0]]\n"
     ]
    }
   ],
   "source": [
    "Z = np.zeros((8,8),dtype=int)\n",
    "Z[1::2,::2] = 1\n",
    "Z[::2,1::2] = 1\n",
    "print(Z)"
   ]
  },
  {
   "cell_type": "markdown",
   "metadata": {},
   "source": [
    "# Ejercicio \n",
    "\n"
   ]
  },
  {
   "cell_type": "markdown",
   "metadata": {},
   "source": [
    "- Crea una matriz de numeros aleatorios.\n",
    "- Normalizala, esto es los numeros deben estar entre 0 y 1.\n",
    "\n",
    "Z = (Z - Zmin)/(Zmax - Zmin)\n",
    "\n",
    "Funcion para generar matriz xon numeros entre a,b aleatorios : np.random.random((m,n))\n",
    "\n",
    "http://www.numpy.org/"
   ]
  },
  {
   "cell_type": "code",
   "execution_count": null,
   "metadata": {
    "collapsed": true
   },
   "outputs": [],
   "source": []
  }
 ],
 "metadata": {
  "anaconda-cloud": {},
  "kernelspec": {
   "display_name": "Python [conda env:anaconda3]",
   "language": "python",
   "name": "conda-env-anaconda3-py"
  },
  "language_info": {
   "codemirror_mode": {
    "name": "ipython",
    "version": 3
   },
   "file_extension": ".py",
   "mimetype": "text/x-python",
   "name": "python",
   "nbconvert_exporter": "python",
   "pygments_lexer": "ipython3",
   "version": "3.5.2"
  }
 },
 "nbformat": 4,
 "nbformat_minor": 1
}
