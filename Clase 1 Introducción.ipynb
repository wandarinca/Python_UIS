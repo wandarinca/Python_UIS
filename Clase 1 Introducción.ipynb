{
 "cells": [
  {
   "cell_type": "markdown",
   "metadata": {},
   "source": [
    "# ¡ Bienvenidas !\n",
    "\n",
    "> Python es un lenguaje con una sintaxis clara, poderoso, muy usado en todo el  mundo por investigadoras, ingenieras y gente de muchas profesiones. Ahora tú también podrás usarlo para lo que quieras!\n",
    "\n",
    "Este taller es parte de las actividades que la Universidad Industrial de Santander realiza en el marco de la Celebración del **Día Mundial de la mujer y la niña en la ciencia**\n",
    "\n",
    "<img src = 'Notebooks_imagenes/wis.png'/>\n",
    "\n",
    "\n",
    "\n",
    "<a href='http://www.un.org/es/events/women-and-girls-in-science-day/index.shtml'> ¿Por qué estamos aquí? Más información de esta celebración.</a>"
   ]
  },
  {
   "cell_type": "markdown",
   "metadata": {},
   "source": [
    "## ¿Qué es Python?\n",
    "\n",
    "- Es un lenguaje de programación de alto nivel.\n",
    " - Es multiparadigma y multiplataforma.\n",
    " - Open source :) Una gran comunidad lo usa en todo el mundo\n",
    " - Dinámicamente tipado (ya veremos qué significa)\n",
    " - Interpretado\n",
    "\n",
    "> Fue creado por Guido Van Rossum, quien trabajaba en Google. Nombró así el lenguaje en honor a Monthy Python. \n",
    "\n",
    "Python tiene una filosofía, así es! Enfatiza en la productividad y legibilidad del código. Para leerla solo corre la siguiente línea de codigo:"
   ]
  },
  {
   "cell_type": "code",
   "execution_count": 4,
   "metadata": {
    "collapsed": false
   },
   "outputs": [
    {
     "name": "stdout",
     "output_type": "stream",
     "text": [
      "The Zen of Python, by Tim Peters\n",
      "\n",
      "Beautiful is better than ugly.\n",
      "Explicit is better than implicit.\n",
      "Simple is better than complex.\n",
      "Complex is better than complicated.\n",
      "Flat is better than nested.\n",
      "Sparse is better than dense.\n",
      "Readability counts.\n",
      "Special cases aren't special enough to break the rules.\n",
      "Although practicality beats purity.\n",
      "Errors should never pass silently.\n",
      "Unless explicitly silenced.\n",
      "In the face of ambiguity, refuse the temptation to guess.\n",
      "There should be one-- and preferably only one --obvious way to do it.\n",
      "Although that way may not be obvious at first unless you're Dutch.\n",
      "Now is better than never.\n",
      "Although never is often better than *right* now.\n",
      "If the implementation is hard to explain, it's a bad idea.\n",
      "If the implementation is easy to explain, it may be a good idea.\n",
      "Namespaces are one honking great idea -- let's do more of those!\n"
     ]
    }
   ],
   "source": [
    "import this"
   ]
  },
  {
   "cell_type": "markdown",
   "metadata": {},
   "source": [
    "### ¿Que puedo  hacer con Python ?\n",
    "\n",
    "> Básicamente cualquier cosa. Una vez aprendas lo básico de Python es como tener un juego de legos con el que puedes crear lo que quieras.\n",
    "\n",
    "<img src='Notebooks_imagenes/lego-bricks-l.jpg' alt='legos'/>\n",
    " - Programación orientada a objetos\n",
    " - Programacion web usando <a src='https://tutorial.djangogirls.org/es/' >Django</a> o <a src='http://flask.pocoo.org/'>Flask</a>\n",
    " - Puedes hacer uso de los miles de paquetes para ciencia (Scipy,numpy,matplotlib) y reemplazar  matlab o mathematica.\n",
    " - Automatizar tareas aburridas o demoradas con python es fácil. Por ejemplo web scrapping (bajar archivos o paginas enteras de internet) con selenium o beautiful soup.\n",
    " - Google, Instagram, pinterest y hasta la NASA usan Python https://wiki.python.org/moin/OrganizationsUsingPython.\n",
    " "
   ]
  },
  {
   "cell_type": "markdown",
   "metadata": {},
   "source": [
    "## Tu primer línea en python"
   ]
  },
  {
   "cell_type": "code",
   "execution_count": 1,
   "metadata": {
    "collapsed": false
   },
   "outputs": [
    {
     "name": "stdout",
     "output_type": "stream",
     "text": [
      "Hello Python!\n"
     ]
    }
   ],
   "source": [
    "print('Hello Python!') # reemplaza 'Python' por tu nombre y preciona shift + enter"
   ]
  },
  {
   "cell_type": "markdown",
   "metadata": {},
   "source": [
    "## Que es un programa? \n",
    "\n",
    "Un programa es una abtracción de la realidad, tiene componentes como entrada, salida y unos procesos en el medio que realizaremos usando codigo para transformar nuestra entrada.\n",
    "\n",
    "Podemos hacer muchas cosas pero las piedras básicas de la programación son:\n",
    "\n",
    "- Condiciones\n",
    "- Los ciclos\n",
    "- Las operaciones lógicas AND, OR\n",
    "- Matemática básica\n",
    "\n",
    "A medidaq que vamos avanzando veremos estas operaciones materializadas en ejemplos de codigo Python."
   ]
  },
  {
   "cell_type": "code",
   "execution_count": 2,
   "metadata": {
    "collapsed": true
   },
   "outputs": [],
   "source": [
    "import antigravity"
   ]
  },
  {
   "cell_type": "markdown",
   "metadata": {},
   "source": [
    "# ¿Interpretado o compilado?\n",
    "\n",
    "Python es un lenguje interpretado\n",
    "<img src='Notebooks_imagenes/interpreter.png', alt='interprete vs compilador'/>"
   ]
  },
  {
   "cell_type": "markdown",
   "metadata": {},
   "source": [
    "# Debugging \n",
    "\n",
    "<img src='Notebooks_imagenes/grace.jpg'/>\n",
    "\n",
    "> El termino \"bug\" fue usado por primera vez por la\n",
    "pionera en computación Grace\n",
    "Hopper. \n",
    "\n",
    "En el ejercicio de la programación te acostumbrarás a cometer errores, nunca se dejan de cometer pero la gracia es volvernos buenos en corregirlos y prevenirlos con buenas prácticas, **no te frustres por los errores**. Podemos tener tres tipos:\n",
    "\n",
    "- Errores de sintaxis. \n",
    "\n",
    "- Errores en tiempo de ejecución (más raros) Como tratar de dividir por 0. Esta bien en la sintaxis x/0 pero no esta bien !\n",
    "\n",
    "- Errores semánticos (bugs).  “El programa que escribiste no es el que querías.” Necesitas pensar de nuevo...\n",
    "\n",
    "## ¿Que hacer al tener un error ?\n",
    "\n",
    "- Googlealo. Seguro no sólo a ti te pasó.\n",
    "- Leer la documentación de Python https://www.python.org/ \n",
    "- Trata de imprimir los pasos del programa para detectar en que parte cometiste el error\n"
   ]
  },
  {
   "cell_type": "code",
   "execution_count": 5,
   "metadata": {
    "collapsed": false
   },
   "outputs": [
    {
     "ename": "SyntaxError",
     "evalue": "EOL while scanning string literal (<ipython-input-5-3a61af8efc0e>, line 3)",
     "output_type": "error",
     "traceback": [
      "\u001b[0;36m  File \u001b[0;32m\"<ipython-input-5-3a61af8efc0e>\"\u001b[0;36m, line \u001b[0;32m3\u001b[0m\n\u001b[0;31m    print('Hello!)\u001b[0m\n\u001b[0m                  ^\u001b[0m\n\u001b[0;31mSyntaxError\u001b[0m\u001b[0;31m:\u001b[0m EOL while scanning string literal\n"
     ]
    }
   ],
   "source": [
    "# Ejemplo de error de sintaxis\n",
    "# Cual es el error ? Que falta? \n",
    "print('Hello!) "
   ]
  },
  {
   "cell_type": "code",
   "execution_count": 6,
   "metadata": {
    "collapsed": false
   },
   "outputs": [
    {
     "ename": "ZeroDivisionError",
     "evalue": "division by zero",
     "output_type": "error",
     "traceback": [
      "\u001b[0;31m-------------------------------------------------------------------------\u001b[0m",
      "\u001b[0;31mZeroDivisionError\u001b[0m                       Traceback (most recent call last)",
      "\u001b[0;32m<ipython-input-6-6fe15c870399>\u001b[0m in \u001b[0;36m<module>\u001b[0;34m()\u001b[0m\n\u001b[1;32m      1\u001b[0m \u001b[0mx\u001b[0m \u001b[0;34m=\u001b[0m \u001b[0;36m5\u001b[0m\u001b[0;34m\u001b[0m\u001b[0m\n\u001b[1;32m      2\u001b[0m \u001b[0my\u001b[0m \u001b[0;34m=\u001b[0m \u001b[0;36m0\u001b[0m\u001b[0;34m\u001b[0m\u001b[0m\n\u001b[0;32m----> 3\u001b[0;31m \u001b[0mx\u001b[0m\u001b[0;34m/\u001b[0m\u001b[0my\u001b[0m\u001b[0;34m\u001b[0m\u001b[0m\n\u001b[0m",
      "\u001b[0;31mZeroDivisionError\u001b[0m: division by zero"
     ]
    }
   ],
   "source": [
    "x = 5\n",
    "y = 0\n",
    "x/y"
   ]
  },
  {
   "cell_type": "markdown",
   "metadata": {},
   "source": [
    "# Valores y tipos en Python\n",
    "\n",
    "**Valor:** Un valortiene un tipo o una clase a la que pertenece\n",
    "**Variable:** Una variable refiere a un valor\n",
    "\n",
    "las asignacionesen python y en casi todos los lenguajes de programacion se hacen como en matemática\n",
    "\n",
    "variable <-- valor\n",
    " \n",
    "\n",
    "\n",
    "```python\n",
    "n = 17\n",
    "pi = 3.1416\n",
    "mensaje = 'Hola !'\n",
    "```\n",
    "\n",
    "En python se crea y se asigna al mismo tiempo las variables. Su tipado es dinámico."
   ]
  },
  {
   "cell_type": "code",
   "execution_count": 7,
   "metadata": {
    "collapsed": false
   },
   "outputs": [
    {
     "data": {
      "text/plain": [
       "str"
      ]
     },
     "execution_count": 7,
     "metadata": {},
     "output_type": "execute_result"
    }
   ],
   "source": [
    "mensaje = 'Hola !'\n",
    "# la funcion type te devuelve el tipo de dato de una variable\n",
    "type(mensaje)"
   ]
  },
  {
   "cell_type": "markdown",
   "metadata": {},
   "source": [
    "### Ejercicio:\n",
    "\n",
    "Cambia el valor de la variable mensaje por un numero decimal (en python el punto es decimal)"
   ]
  },
  {
   "cell_type": "markdown",
   "metadata": {},
   "source": [
    "## Algunas consideraciones\n",
    "\n",
    "1. Los nombres de variables pueden ser muy largos. Pero no se recomienda. Recuerda elegir\n",
    "bien los nombres de las variables para que tu código sea legible y lo entiendas.\n",
    "2. Deben comenzar con una letra. (minúscula)\n",
    "3. Números y letras son combinables. Teniendo en cuenta 2.\n",
    "4. OJO con las Keywords.\n",
    "\n",
    "\n",
    "# Keywords\n",
    "\n",
    "Palabras especiales que no puedes usar como nombre de variables https://www.w3schools.com/python/python_ref_keywords.asp \n",
    "\n",
    "# Tipos de datos en Python\n",
    "\n",
    "\n",
    "Los tipos de datos básicos en Python son:\n",
    "\n",
    "- Entero: a = 2\n",
    "- Float: b = 2.0\n",
    "- Cadenas: s = “Hola Mundo!”\n",
    "- Boolean: vacio = False\n",
    "- Listas: lista = [12, “Camila”, False]\n",
    "- Tuplas: (1, 2, \"w\", \":)\")\n",
    "- Diccionarios: dias = {\"Lunes\": 1, \"Martes\": 2, \"Miercoles\":3}\n",
    "\n",
    "# Operadores\n",
    "\n",
    "## Lógicos \n",
    "\n",
    "and, or, not"
   ]
  },
  {
   "cell_type": "code",
   "execution_count": 3,
   "metadata": {
    "collapsed": false
   },
   "outputs": [
    {
     "data": {
      "text/plain": [
       "False"
      ]
     },
     "execution_count": 3,
     "metadata": {},
     "output_type": "execute_result"
    }
   ],
   "source": [
    "True and False"
   ]
  },
  {
   "cell_type": "code",
   "execution_count": 6,
   "metadata": {
    "collapsed": false
   },
   "outputs": [
    {
     "data": {
      "text/plain": [
       "True"
      ]
     },
     "execution_count": 6,
     "metadata": {},
     "output_type": "execute_result"
    }
   ],
   "source": [
    "True and True"
   ]
  },
  {
   "cell_type": "code",
   "execution_count": 4,
   "metadata": {
    "collapsed": false
   },
   "outputs": [
    {
     "data": {
      "text/plain": [
       "True"
      ]
     },
     "execution_count": 4,
     "metadata": {},
     "output_type": "execute_result"
    }
   ],
   "source": [
    "True or False"
   ]
  },
  {
   "cell_type": "code",
   "execution_count": 5,
   "metadata": {
    "collapsed": false
   },
   "outputs": [
    {
     "data": {
      "text/plain": [
       "False"
      ]
     },
     "execution_count": 5,
     "metadata": {},
     "output_type": "execute_result"
    }
   ],
   "source": [
    "False or False"
   ]
  },
  {
   "cell_type": "code",
   "execution_count": 7,
   "metadata": {
    "collapsed": false
   },
   "outputs": [
    {
     "data": {
      "text/plain": [
       "True"
      ]
     },
     "execution_count": 7,
     "metadata": {},
     "output_type": "execute_result"
    }
   ],
   "source": [
    "not False and True #  ¬ x AND y"
   ]
  },
  {
   "cell_type": "markdown",
   "metadata": {},
   "source": [
    "## Aritméticos\n",
    "\n",
    "- Para sumar dos números usa +\n",
    "- Restar usa -\n",
    "- Multiplicacion \\*\n",
    "- División /\n",
    "- Potencia \\**\n",
    "\n",
    " **mini ejercicio-->**  //, % Para qué sirven? Úsalos y averigua!\n",
    " \n",
    " La prioridad de las operaciones en Python es: Multiplicacion y division antes que suma y resta. Pero si tienes dudas usa paréntesis para agrupar expresiones."
   ]
  },
  {
   "cell_type": "code",
   "execution_count": 10,
   "metadata": {
    "collapsed": false
   },
   "outputs": [
    {
     "data": {
      "text/plain": [
       "14"
      ]
     },
     "execution_count": 10,
     "metadata": {},
     "output_type": "execute_result"
    }
   ],
   "source": [
    "3 * 4 + 2  # equivalente a (3*4) + 12"
   ]
  },
  {
   "cell_type": "code",
   "execution_count": 11,
   "metadata": {
    "collapsed": false
   },
   "outputs": [
    {
     "data": {
      "text/plain": [
       "3.5"
      ]
     },
     "execution_count": 11,
     "metadata": {},
     "output_type": "execute_result"
    }
   ],
   "source": [
    "3/2 + 2"
   ]
  },
  {
   "cell_type": "code",
   "execution_count": 13,
   "metadata": {
    "collapsed": false
   },
   "outputs": [
    {
     "data": {
      "text/plain": [
       "9"
      ]
     },
     "execution_count": 13,
     "metadata": {},
     "output_type": "execute_result"
    }
   ],
   "source": [
    "2**3 + 1 # potencia prioridad antes de suma "
   ]
  },
  {
   "cell_type": "markdown",
   "metadata": {},
   "source": [
    "## De comparación\n",
    "\n",
    " ==, <, >, <=, >=, !=\n",
    " \n",
    " \n",
    " Para saber si dos expresiones son iguales, o si una cantidad es mayor que la otra usamos casi los mismos simbolos de matemática, dos iguales son para comparar. Uno para asignar. \n",
    " \n",
    "### Ejercicio:\n",
    "\n",
    "En jupyter, podemos usar celdas de código, texto enriquecido (Markdown) como esta y hasta LaTex. Cuando usas las celdas de código estas usando un interprete de Python 3. Utiliza el interprete como una calculadora y usa la función print para imprimir el resultado."
   ]
  },
  {
   "cell_type": "code",
   "execution_count": 14,
   "metadata": {
    "collapsed": false
   },
   "outputs": [
    {
     "name": "stdout",
     "output_type": "stream",
     "text": [
      "5\n"
     ]
    }
   ],
   "source": [
    "a = 2 # Con = asignamos un valor (2) a una variable (a)\n",
    "b = 3 \n",
    "c = a + b\n",
    "print(c)"
   ]
  },
  {
   "cell_type": "code",
   "execution_count": 15,
   "metadata": {
    "collapsed": false
   },
   "outputs": [
    {
     "data": {
      "text/plain": [
       "False"
      ]
     },
     "execution_count": 15,
     "metadata": {},
     "output_type": "execute_result"
    }
   ],
   "source": [
    "a > b"
   ]
  },
  {
   "cell_type": "code",
   "execution_count": null,
   "metadata": {
    "collapsed": true
   },
   "outputs": [],
   "source": [
    "# en esta celda multiplica a con b  y asigna este  valor a una variable llamada d, imprimelo"
   ]
  },
  {
   "cell_type": "markdown",
   "metadata": {},
   "source": [
    "# Estructuras \n",
    "\n",
    "Ahora que sabemos que sobre tipos de variables  y operadores pasaremos a las estructuras que nos permiten crear programas.\n",
    "\n",
    "## Decisión\n",
    "\n",
    "Con if damos una condición, lo que se anida al interior es la consecuencia de cumplir con la condicion.\n",
    "\n",
    "```python\n",
    "if condicion1:\n",
    "    instruccion1\n",
    "elif condicion2:\n",
    "    instruccion2\n",
    "...\n",
    "elif condicionN:\n",
    "    instruccionN\n",
    "else:\n",
    "    instruccionfinal\n",
    "```\n",
    "Nota como la identación en Python juega un papel fundamental. A diferencia de otros lenguaes donde se usan llaves {}, en python se usa el tab o 4 espacios para interpretar el nivel del código.\n",
    "\n",
    "Para anidar una condición dentro de otra, usa la identación. Puedes imaginar esto como un diagrama de flujo o un árbol de decisiones.\n",
    "\n",
    "```python\n",
    "if condicion1:\n",
    "    if condicion1_1:\n",
    "        print('cumple ambas condiciones')\n",
    "    else: \n",
    "        print('cumple la condicion 1)\n",
    "else:\n",
    "    print('ninguna condicion fue cumplida')\n",
    "```    \n",
    "\n",
    "## Ejemplo: \n",
    "\n",
    "Es x un numero positivo ?"
   ]
  },
  {
   "cell_type": "code",
   "execution_count": 19,
   "metadata": {
    "collapsed": false
   },
   "outputs": [
    {
     "name": "stdout",
     "output_type": "stream",
     "text": [
      "Introduce un numero:0\n"
     ]
    }
   ],
   "source": [
    "x = input(\"Introduce un numero:\")"
   ]
  },
  {
   "cell_type": "code",
   "execution_count": 20,
   "metadata": {
    "collapsed": false
   },
   "outputs": [
    {
     "name": "stdout",
     "output_type": "stream",
     "text": [
      "Zero\n"
     ]
    }
   ],
   "source": [
    "x = int(x)\n",
    "if x > 0:\n",
    "    print(\"Positivo\")\n",
    "elif x < 0:\n",
    "    print(\"Negativo\")\n",
    "else:\n",
    "    print(\"Zero\")"
   ]
  },
  {
   "cell_type": "markdown",
   "metadata": {},
   "source": [
    "### Ejercicio\n",
    "\n",
    "Realiza un pequeño programa que verifique si un numero es par.\n",
    "**Pista: ** El operador % modulo retorna el residuo de la divisionde dos numeros. "
   ]
  },
  {
   "cell_type": "code",
   "execution_count": 33,
   "metadata": {
    "collapsed": false
   },
   "outputs": [
    {
     "name": "stdout",
     "output_type": "stream",
     "text": [
      "0\n"
     ]
    }
   ],
   "source": [
    "print(8%2)"
   ]
  },
  {
   "cell_type": "code",
   "execution_count": 34,
   "metadata": {
    "collapsed": false
   },
   "outputs": [
    {
     "name": "stdout",
     "output_type": "stream",
     "text": [
      "Introduce el numero para saber si es par:89\n"
     ]
    }
   ],
   "source": [
    "x = input('Introduce el numero para saber si es par:')"
   ]
  },
  {
   "cell_type": "code",
   "execution_count": 35,
   "metadata": {
    "collapsed": false
   },
   "outputs": [
    {
     "name": "stdout",
     "output_type": "stream",
     "text": [
      "El número es impar!\n"
     ]
    }
   ],
   "source": [
    "## Aqui tu programa\n",
    "if None: # reemplaza NOne con la condicion que verifica la paridad\n",
    "    print('El número es par!')\n",
    "else:\n",
    "    print('El número es impar!')"
   ]
  },
  {
   "cell_type": "markdown",
   "metadata": {},
   "source": [
    "Recuerda, programar es cometer errores. Al final nos hacemos mejores en detectar los errores y arreglarlos pero nunca dejamos de cometerlos.\n",
    "--> https://youtu.be/fC9da6eqaqg"
   ]
  },
  {
   "cell_type": "markdown",
   "metadata": {},
   "source": [
    "# Bucles\n",
    "\n",
    "Es muy común tener que hacer operaciones sobre objetos que son colecciones (como las listas, tuplas y diccioarios)\n",
    "> Iterar es recorrer cada elemento de una coleccion. Existen varias razones por las cuales queremos iterar sobre una coleccion como buscar un elemento específico o realizar un cambio sobre algunos elementos.\n",
    "\n",
    "### Funcion for\n",
    "\n",
    "Copia y pega estas funciones, que descubrimos de las cadenas?\n",
    "```python\n",
    "lista = [2, 3, 1, 4, 67, 21, 42, 3]\n",
    "\n",
    "for x in lista:\n",
    "    print (x)\n",
    "\n",
    "\n",
    "a = \"Hello world!\"\n",
    "for x in a:\n",
    "    print (a)\n",
    "``` \n",
    "### Funcion while\n",
    "\n",
    "Es como un for y un if fusionados itera y verifica una condición !\n",
    "```python\n",
    "\n",
    "contador = 0\n",
    "\n",
    "while (contador < 9):\n",
    "    print(\"El contador es: \", contador)\n",
    "    contador = contador + 1\n",
    "```"
   ]
  },
  {
   "cell_type": "markdown",
   "metadata": {},
   "source": [
    "## Desafío #1\n",
    "\n",
    "Realiza un programa que imprima el mensaje \"Primo\" si el número es primo. \n",
    "\n",
    "**Pista**: Un número primo es aquel que sólo es divisible por 1 y sí mismo.  Empieza verificando tu programa con un número primo pequeño como 7, 13, 19. "
   ]
  },
  {
   "cell_type": "code",
   "execution_count": 21,
   "metadata": {
    "collapsed": true
   },
   "outputs": [],
   "source": [
    "## Escribe aqui un programa que verifique si x es primo."
   ]
  },
  {
   "cell_type": "markdown",
   "metadata": {},
   "source": [
    "## Desafío  #2\n",
    "\n",
    "Hallar el máximo común divisor de dos números. crea una funcion que tome como entrada dos números y retorne el máximo común divisor."
   ]
  },
  {
   "cell_type": "code",
   "execution_count": 22,
   "metadata": {
    "collapsed": true
   },
   "outputs": [],
   "source": [
    "#"
   ]
  },
  {
   "cell_type": "markdown",
   "metadata": {},
   "source": [
    "## Hora de practicar !"
   ]
  },
  {
   "cell_type": "markdown",
   "metadata": {
    "collapsed": true
   },
   "source": [
    "Además de todos los pequeños ejercicios de este notebook introductorio te recomiendo que uses los siguientes recursos disponibles gratis para todos:\n",
    "\n",
    "Online:\n",
    "\n",
    "- https://www.w3schools.com/python/default.asp\n",
    "- https://www.codecademy.com/learn/learn-python \n",
    "\n",
    "Libros:\n",
    "\n",
    "- Think python. Allen B. Downey.\n",
    "- Python para todos por Raúl González Duque\n",
    "- Learning Python (Powerful Object-Oriented Programming). Mark Lutzç"
   ]
  },
  {
   "cell_type": "code",
   "execution_count": null,
   "metadata": {
    "collapsed": true
   },
   "outputs": [],
   "source": []
  }
 ],
 "metadata": {
  "anaconda-cloud": {},
  "kernelspec": {
   "display_name": "Python [conda env:anaconda3]",
   "language": "python",
   "name": "conda-env-anaconda3-py"
  },
  "language_info": {
   "codemirror_mode": {
    "name": "ipython",
    "version": 3
   },
   "file_extension": ".py",
   "mimetype": "text/x-python",
   "name": "python",
   "nbconvert_exporter": "python",
   "pygments_lexer": "ipython3",
   "version": "3.5.2"
  }
 },
 "nbformat": 4,
 "nbformat_minor": 1
}
